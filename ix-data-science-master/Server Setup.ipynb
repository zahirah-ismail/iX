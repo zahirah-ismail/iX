{
 "cells": [
  {
   "cell_type": "markdown",
   "metadata": {},
   "source": [
    "# Server Setup"
   ]
  },
  {
   "cell_type": "markdown",
   "metadata": {},
   "source": [
    "### 1. Intial connection\n",
    "Connect to the server:\n",
    "```\n",
    "gcloud compute ssh instance-name\n",
    "```\n",
    "\n",
    "Update the package manager on the server with the command:\n",
    "```\n",
    "sudo apt-get update\n",
    "```\n",
    "\n",
    "### 2. Connection with agent forwarding\n",
    "This allows connection to Github via `ssh` without having to add new keypairs on the server to your Github account.\n",
    "\n",
    "Exit and reconnect via `ssh` with key agent forwarding:\n",
    "```\n",
    "exit\n",
    "ssh username@external-ip -A\n",
    "```\n",
    "\n",
    "### 3. Clone the `server setup` repository\n",
    "```\n",
    "cd ~\n",
    "git clone git@github.com:twolffpiggott/server-setup.git\n",
    "```"
   ]
  },
  {
   "cell_type": "markdown",
   "metadata": {},
   "source": [
    "### 4. Run the `pyenv` setup scripts\n",
    "Install `pyenv`:\n",
    "```\n",
    "cd ~\n",
    "source server-setup/pyenv_install.sh\n",
    "```\n",
    "Set the global Python version to 3.7.0:\n",
    "```\n",
    "source server-setup/pyenv_set_version.sh\n",
    "```"
   ]
  },
  {
   "cell_type": "markdown",
   "metadata": {},
   "source": [
    "### 5. Set up a virtual environment\n",
    "Run:\n",
    "```\n",
    "cd ~\n",
    "source server-setup/venv_setup.sh\n",
    "```\n",
    "The command `venv` now activates the virtual environment."
   ]
  },
  {
   "cell_type": "markdown",
   "metadata": {},
   "source": [
    "### 6. Clone the iXperience repository and install Python packages\n",
    "```\n",
    "cd ~\n",
    "git clone git@github.com:twolffpiggott/ix-data-science.git\n",
    "```\n",
    "Make sure your virtual environment is activated by typing `venv`. Navigate to into the `ix-data-science` repo and install Python packages from `requirements.txt`.\n",
    "```\n",
    "cd ~/ix-data-science/\n",
    "pip install -r requirements.txt\n",
    "```"
   ]
  },
  {
   "cell_type": "markdown",
   "metadata": {},
   "source": [
    "### 7. Reconnect to the server with port forwarding\n",
    "Close the connection existing connection to the server with `exit`.\n",
    "Reopen a new connection with port forwarding so you'll be able to access Jupyter notebooks hosted on the server on your laptop:\n",
    "```\n",
    "ssh -L 8888:localhost:8888 username@external-ip -A\n",
    "```"
   ]
  },
  {
   "cell_type": "markdown",
   "metadata": {},
   "source": [
    "### 8. Start a Jupyter notebook on the server and access it on your browser\n",
    "Make sure your virtual environment is activated by running `venv`.\n",
    "\n",
    "Start a jupyter notebook:\n",
    "```\n",
    "jupyter notebook\n",
    "```\n",
    "\n",
    "Connect to the notebook locally via your browser:\n",
    "```\n",
    "http://localhost:8888/\n",
    "```"
   ]
  },
  {
   "cell_type": "code",
   "execution_count": null,
   "metadata": {},
   "outputs": [],
   "source": []
  }
 ],
 "metadata": {
  "kernelspec": {
   "display_name": "Python 3",
   "language": "python",
   "name": "python3"
  },
  "language_info": {
   "codemirror_mode": {
    "name": "ipython",
    "version": 3
   },
   "file_extension": ".py",
   "mimetype": "text/x-python",
   "name": "python",
   "nbconvert_exporter": "python",
   "pygments_lexer": "ipython3",
   "version": "3.6.4"
  }
 },
 "nbformat": 4,
 "nbformat_minor": 2
}
