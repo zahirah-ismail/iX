{
 "cells": [
  {
   "cell_type": "markdown",
   "metadata": {},
   "source": [
    "# Introduction to Python"
   ]
  },
  {
   "cell_type": "markdown",
   "metadata": {},
   "source": [
    "## Variables in Python\n",
    "In Python, variable names are like stickers put on objects. Every sticker has a unique name written on it, and it can only be on one object at a time. If desired, more than one sticker can be put on the same object."
   ]
  },
  {
   "cell_type": "code",
   "execution_count": 45,
   "metadata": {},
   "outputs": [
    {
     "name": "stdout",
     "output_type": "stream",
     "text": [
      "Animal is cat, pet is cat\n",
      "Animal is now giraffe, pet is still cat\n"
     ]
    }
   ],
   "source": [
    "# assign the 'animal' sticker to the cat string\n",
    "animal = 'cat'\n",
    "\n",
    "# also assign the 'pet' sticker to the underlying cat string\n",
    "pet = animal\n",
    "\n",
    "print(f'Animal is {animal}, pet is {pet}')\n",
    "\n",
    "# move the animal sticker to giraffe\n",
    "animal = 'giraffe'\n",
    "\n",
    "print(f'Animal is now {animal}, pet is still {pet}')"
   ]
  },
  {
   "cell_type": "markdown",
   "metadata": {},
   "source": [
    "## Lists\n",
    "\n",
    "Lists of one of the fundamental data structures in Python, and can be described generally as an ordered collection (list) of objects. At their most basic level, lists have a length (`len(list)`), and each element in the list can be accessed via its unique integer index.\n",
    "\n",
    "Note that in Python, all data structures are **zero-indexed**, meaning that the first occuring entry is assigned an index of 0 instead of 1."
   ]
  },
  {
   "cell_type": "code",
   "execution_count": 46,
   "metadata": {},
   "outputs": [
    {
     "name": "stdout",
     "output_type": "stream",
     "text": [
      "Type of list1: <class 'list'>\n",
      "Type of list2: <class 'list'>\n"
     ]
    }
   ],
   "source": [
    "# two ways to instantiate or create a list\n",
    "list1 = [1, 2, 3, 4, 5]\n",
    "list2 = list((1, 2, 3, 4, 5))\n",
    "# the argument in the call to list above could be any iterable\n",
    "\n",
    "print(f'Type of list1: {type(list1)}')\n",
    "print(f'Type of list2: {type(list2)}')"
   ]
  },
  {
   "cell_type": "markdown",
   "metadata": {},
   "source": [
    "**Many list operations happen in place.** That is, they change the underlying list and return `None` (more on exactly what `None` is later), instead of making a copy and returning the updated list, which would be assigned to a new variable.\n",
    "\n",
    "**Deleting list entries:**"
   ]
  },
  {
   "cell_type": "code",
   "execution_count": 47,
   "metadata": {},
   "outputs": [
    {
     "name": "stdout",
     "output_type": "stream",
     "text": [
      "4\n",
      "[1, 2, 3, 5]\n"
     ]
    }
   ],
   "source": [
    "# pop returns the value at the 2rd index of the list\n",
    "# and removes this value from the list\n",
    "val_at_index3 = list1.pop(3)\n",
    "\n",
    "print(val_at_index3)\n",
    "print(list1)"
   ]
  },
  {
   "cell_type": "code",
   "execution_count": 48,
   "metadata": {},
   "outputs": [
    {
     "name": "stdout",
     "output_type": "stream",
     "text": [
      "None\n",
      "[1, 2, 3]\n"
     ]
    }
   ],
   "source": [
    "# remove removes the first occurence of a 5\n",
    "# and returns None\n",
    "none_return = list1.remove(5)\n",
    "\n",
    "print(none_return)\n",
    "print(list1)"
   ]
  },
  {
   "cell_type": "markdown",
   "metadata": {},
   "source": [
    "`None` is the empty python object. There can be only one copy of this object per Python session, and so it corresponds to a single position in memory to which all empty objects point. It is implicitly returned by any Python function without an explicit `return` statement, and often used used as an empty default for variables. Analogous to `NULL` in SQL or `undefined` in JavaScript.\n",
    "\n",
    "Be careful not to assign the results of in place operations to variables. When that occurs, the original variable in memory is lost, and the variable now points to the empty Python object signified by `None`."
   ]
  },
  {
   "cell_type": "code",
   "execution_count": 49,
   "metadata": {},
   "outputs": [
    {
     "name": "stdout",
     "output_type": "stream",
     "text": [
      "None\n"
     ]
    }
   ],
   "source": [
    "list2 = list2.append(10)\n",
    "\n",
    "print(list2)\n",
    "# we've assigned the list2 variable to None and lost the pointer to the modified list2"
   ]
  },
  {
   "cell_type": "markdown",
   "metadata": {},
   "source": [
    "** Adding list entries: ** \n"
   ]
  },
  {
   "cell_type": "code",
   "execution_count": 50,
   "metadata": {},
   "outputs": [],
   "source": [
    "list1.append(6)"
   ]
  },
  {
   "cell_type": "code",
   "execution_count": 51,
   "metadata": {},
   "outputs": [
    {
     "data": {
      "text/plain": [
       "[1, 2, 3, 6]"
      ]
     },
     "execution_count": 51,
     "metadata": {},
     "output_type": "execute_result"
    }
   ],
   "source": [
    "# appends the given value to the end of the list\n",
    "list1"
   ]
  },
  {
   "cell_type": "markdown",
   "metadata": {},
   "source": [
    "What if we wanted to add a sequence of values to our list? For instance, the numbers 10, 20 and 30?\n",
    "\n",
    "Can we approach this by passing a list to the append method?"
   ]
  },
  {
   "cell_type": "code",
   "execution_count": 52,
   "metadata": {},
   "outputs": [
    {
     "name": "stdout",
     "output_type": "stream",
     "text": [
      "[1, 2, 3, 6, [10, 20, 30]]\n"
     ]
    }
   ],
   "source": [
    "list1.append([10, 20, 30])\n",
    "\n",
    "print(list1)\n",
    "# this appends the list as the final entry for out original list"
   ]
  },
  {
   "cell_type": "markdown",
   "metadata": {},
   "source": [
    "We could get around this by appending each new element separately."
   ]
  },
  {
   "cell_type": "code",
   "execution_count": 55,
   "metadata": {},
   "outputs": [
    {
     "name": "stdout",
     "output_type": "stream",
     "text": [
      "[1, 2, 3, 4, 5, 10, 20, 30]\n"
     ]
    }
   ],
   "source": [
    "# reset our original list1\n",
    "list1 = [1, 2, 3, 4, 5]\n",
    "\n",
    "list1.append(10)\n",
    "list1.append(20)\n",
    "list1.append(30)\n",
    "\n",
    "print(list1)"
   ]
  },
  {
   "cell_type": "markdown",
   "metadata": {},
   "source": [
    "This works. But it's pretty clumsy, and obviously not sustainable for larger collections. We needs a way to *iterate* over a collection and call the method. This is the perfect use case for a `for` loop. The basic structure is as follows:\n",
    "\n",
    "```python\n",
    "for item in iterable:\n",
    "    # do something involving item\n",
    "```\n",
    "\n",
    "Note that in Python, an `iterable` is any object that supports iteration. There are many, but some key examples are lists, tuples and arrays. Let's try that with the previous example:"
   ]
  },
  {
   "cell_type": "code",
   "execution_count": 58,
   "metadata": {},
   "outputs": [
    {
     "name": "stdout",
     "output_type": "stream",
     "text": [
      "[1, 2, 3, 4, 5, 10, 20, 30]\n"
     ]
    }
   ],
   "source": [
    "list1 = [1, 2, 3, 4, 5]\n",
    "\n",
    "for item in [10, 20, 30]:\n",
    "    list1.append(item)\n",
    "    \n",
    "print(list1)"
   ]
  },
  {
   "cell_type": "markdown",
   "metadata": {},
   "source": [
    "Great! This does the job far more efficiently than in our previous example. But it turns out that there is a method for lists that accepts an iterable as its arguments and does the work in the `for` loop about implicitly for the user: the `extend` method."
   ]
  },
  {
   "cell_type": "code",
   "execution_count": 60,
   "metadata": {},
   "outputs": [
    {
     "name": "stdout",
     "output_type": "stream",
     "text": [
      "[1, 2, 3, 4, 5, 10, 20, 30]\n"
     ]
    }
   ],
   "source": [
    "list1 = [1, 2, 3, 4, 5]\n",
    "\n",
    "list1.extend([10, 20, 30])\n",
    "\n",
    "print(list1)"
   ]
  },
  {
   "cell_type": "markdown",
   "metadata": {},
   "source": [
    "We can also do arithmetic using lists:"
   ]
  },
  {
   "cell_type": "code",
   "execution_count": 64,
   "metadata": {},
   "outputs": [
    {
     "name": "stdout",
     "output_type": "stream",
     "text": [
      "After addition: [1, 2, 3, 4, 5, 6, 7, 8, 9, 10]\n",
      "After multiplication: [1, 2, 3, 4, 5, 1, 2, 3, 4, 5, 1, 2, 3, 4, 5]\n"
     ]
    }
   ],
   "source": [
    "list1 = [1, 2, 3, 4, 5]\n",
    "\n",
    "list2 = [6, 7, 8, 9, 10]\n",
    "\n",
    "# adding lists creates a new list containing the elements of both lists\n",
    "# in the order they were added\n",
    "print(f'After addition: {list1 + list2}')\n",
    "\n",
    "# multiplying lists is the same as making multiple calls of list.extend(list)\n",
    "print(f'After multiplication: {list1 * 3}')"
   ]
  },
  {
   "cell_type": "markdown",
   "metadata": {},
   "source": [
    "## Slicing\n",
    "\n",
    "Slicing is the process of obtaining a subset of some data collection. It is most commonly applied to strings and lists (also, importantly, arrays).\n",
    "\n",
    "A quick aside: the `range` function is very useful to generate longer lists it accepts the arguments `start` (default 0), `stop` and `step` (default 1), and produces an object representing the sequence:\n",
    "```\n",
    "start, start + step, ..., stop - step\n",
    "```"
   ]
  },
  {
   "cell_type": "code",
   "execution_count": 77,
   "metadata": {},
   "outputs": [
    {
     "name": "stdout",
     "output_type": "stream",
     "text": [
      "[0, 1, 2, 3, 4, 5, 6, 7, 8, 9, 10, 11, 12, 13, 14, 15, 16, 17, 18, 19]\n",
      "[5, 8, 11, 14, 17, 20, 23, 26]\n"
     ]
    }
   ],
   "source": [
    "# we produce a list by calling the list constructor with the range object\n",
    "list1 = list(range(20))\n",
    "print(list1)\n",
    "\n",
    "list2 = list(range(5, 29, 3))\n",
    "print(list2)"
   ]
  },
  {
   "cell_type": "markdown",
   "metadata": {},
   "source": [
    "Now back to slicing. Slicing works through accessing the underlying indices for the list, and returns a copy of the sliced list containing a subset of its values:\n",
    "\n",
    "```python\n",
    "list2 = list1[start:stop:step]\n",
    "```\n",
    "`start` is the first index taken from the sliced list, stop is the last index *not taken* from the sliced list, and `step` means that the slice includes every (`step`)th integer value in the interval $[stop, start)$."
   ]
  },
  {
   "cell_type": "code",
   "execution_count": 79,
   "metadata": {},
   "outputs": [
    {
     "name": "stdout",
     "output_type": "stream",
     "text": [
      "[10, 12, 14, 16, 18]\n"
     ]
    }
   ],
   "source": [
    "print(list1[10:20:2])\n",
    "# 10 is included, 20 is exluded\n",
    "# every 2nd integer in the interval [10, 20) is taken"
   ]
  },
  {
   "cell_type": "code",
   "execution_count": 80,
   "metadata": {},
   "outputs": [
    {
     "data": {
      "text/plain": [
       "19"
      ]
     },
     "execution_count": 80,
     "metadata": {},
     "output_type": "execute_result"
    }
   ],
   "source": [
    "# select the last element of the list\n",
    "list1[-1]"
   ]
  },
  {
   "cell_type": "code",
   "execution_count": 84,
   "metadata": {},
   "outputs": [
    {
     "name": "stdout",
     "output_type": "stream",
     "text": [
      "[0, 1, 2, 3, 4, 5, 6, 7, 8, 9]\n",
      "[0, 1, 2, 3, 4, 5, 6, 7, 8, 9]\n"
     ]
    }
   ],
   "source": [
    "# select the 0th to the 10th (exclusive)\n",
    "print(list1[0:10])\n",
    "print(list1[:10])"
   ]
  },
  {
   "cell_type": "code",
   "execution_count": 85,
   "metadata": {},
   "outputs": [
    {
     "name": "stdout",
     "output_type": "stream",
     "text": [
      "[0, 1, 2, 3, 4, 5, 6, 7, 8, 9, 10, 11, 12, 13, 14, 15, 16, 17, 18]\n"
     ]
    }
   ],
   "source": [
    "# select every element except the last\n",
    "print(list1[:-1])"
   ]
  },
  {
   "cell_type": "code",
   "execution_count": 98,
   "metadata": {},
   "outputs": [
    {
     "name": "stdout",
     "output_type": "stream",
     "text": [
      "[19, 18, 17, 16, 15, 14, 13, 12, 11, 10, 9, 8, 7, 6, 5, 4, 3, 2, 1, 0]\n",
      "This is the same as:\n",
      "[19, 18, 17, 16, 15, 14, 13, 12, 11, 10, 9, 8, 7, 6, 5, 4, 3, 2, 1, 0]\n"
     ]
    }
   ],
   "source": [
    "# reverse the sequence\n",
    "# the negative step of 1 starts at the end of the list (exclusive)\n",
    "# and goes back to the start of the list(inclusive)\n",
    "print(list1[::-1])\n",
    "\n",
    "print(f'This is the same as:\\n{list1[20::-1]}')"
   ]
  },
  {
   "cell_type": "code",
   "execution_count": 88,
   "metadata": {},
   "outputs": [
    {
     "name": "stdout",
     "output_type": "stream",
     "text": [
      "[19, 17, 15, 13, 11, 9, 7, 5, 3, 1]\n"
     ]
    }
   ],
   "source": [
    "# reverse the sequence and take every 2nd integer\n",
    "print(list1[::-2])"
   ]
  },
  {
   "cell_type": "code",
   "execution_count": 91,
   "metadata": {},
   "outputs": [
    {
     "name": "stdout",
     "output_type": "stream",
     "text": [
      "[10, 8, 6]\n"
     ]
    }
   ],
   "source": [
    "# reverse the sequence and take every 2nd integer\n",
    "# starting at the 10th index and stopping at the 4th (exclusive)\n",
    "print(list1[10:4:-2])"
   ]
  },
  {
   "cell_type": "markdown",
   "metadata": {},
   "source": [
    "## List comprehension"
   ]
  },
  {
   "cell_type": "markdown",
   "metadata": {},
   "source": [
    "List comprehension is a fundamentally Pythonic feature. Here's a basic example using list comprehension to construct a list from a `range` object instead of calling the `list` constructor.\n",
    "\n",
    "Its effect is the same as the following:\n",
    "\n",
    "```python\n",
    "list1 = []\n",
    "for i in range(10, 30, 3):\n",
    "    list1.append(i)\n",
    "```\n",
    "\n",
    "However it is far more efficient and compact."
   ]
  },
  {
   "cell_type": "code",
   "execution_count": 100,
   "metadata": {},
   "outputs": [
    {
     "name": "stdout",
     "output_type": "stream",
     "text": [
      "[10, 13, 16, 19, 22, 25, 28]\n"
     ]
    }
   ],
   "source": [
    "list1 = [i for i in range(10, 30, 3)]\n",
    "\n",
    "print(list1)"
   ]
  },
  {
   "cell_type": "markdown",
   "metadata": {},
   "source": [
    "We can also use list comprehension to do far more interesting things, and combine it with conditional logic."
   ]
  },
  {
   "cell_type": "code",
   "execution_count": 104,
   "metadata": {},
   "outputs": [
    {
     "name": "stdout",
     "output_type": "stream",
     "text": [
      "[10, 13, 16, 19, 22, 25, 28]\n"
     ]
    }
   ],
   "source": [
    "# emulate the step argument effect in range\n",
    "list1 = [value for index, value in enumerate(range(10, 30)) if index % 3 == 0]\n",
    "\n",
    "print(list1)"
   ]
  },
  {
   "cell_type": "markdown",
   "metadata": {},
   "source": [
    "Note that `enumerate`, called on an iterable, returns an iterable of tuples `(integer index, iterable value at integer index)`. \n",
    "\n",
    "For example:"
   ]
  },
  {
   "cell_type": "code",
   "execution_count": 106,
   "metadata": {},
   "outputs": [
    {
     "name": "stdout",
     "output_type": "stream",
     "text": [
      "Iterable value at index 0: 10\n",
      "Iterable value at index 1: 13\n",
      "Iterable value at index 2: 16\n",
      "Iterable value at index 3: 19\n",
      "Iterable value at index 4: 22\n",
      "Iterable value at index 5: 25\n",
      "Iterable value at index 6: 28\n"
     ]
    }
   ],
   "source": [
    "for index, value in enumerate(range(10, 30, 3)):\n",
    "    print(f'Iterable value at index {index}: {value}')"
   ]
  },
  {
   "cell_type": "code",
   "execution_count": 111,
   "metadata": {},
   "outputs": [
    {
     "name": "stdout",
     "output_type": "stream",
     "text": [
      "[[0, 1, 2, 3, 4, 5, 6, 7, 8, 9], 'skip', [20, 21, 22, 23, 24, 25, 26, 27, 28, 29], 'skip', [40, 41, 42, 43, 44, 45, 46, 47, 48, 49], 'skip', [60, 61, 62, 63, 64, 65, 66, 67, 68, 69], 'skip', [80, 81, 82, 83, 84, 85, 86, 87, 88, 89], 'skip']\n"
     ]
    }
   ],
   "source": [
    "list1 = [[k for k in range(i, i+10)] if i % 20 == 0 else 'skip' for i in range(0, 100, 10)]\n",
    "\n",
    "print(list1)"
   ]
  },
  {
   "cell_type": "markdown",
   "metadata": {},
   "source": [
    "As an exercise, reproduce the following list using list comprehension:\n",
    "\n",
    "```python\n",
    "[[27, 24, 21, 18, 15, 12, 9, 6, 3, 0],\n",
    " [28, 26, 24, 22, 20, 18, 16, 14, 12, 10],\n",
    " [38, 36, 34, 32, 30, 28, 26, 24, 22, 20],\n",
    " [57, 54, 51, 48, 45, 42, 39, 36, 33, 30],\n",
    " [58, 56, 54, 52, 50, 48, 46, 44, 42, 40],\n",
    " [68, 66, 64, 62, 60, 58, 56, 54, 52, 50],\n",
    " [87, 84, 81, 78, 75, 72, 69, 66, 63, 60],\n",
    " [88, 86, 84, 82, 80, 78, 76, 74, 72, 70],\n",
    " [98, 96, 94, 92, 90, 88, 86, 84, 82, 80],\n",
    " [117, 114, 111, 108, 105, 102, 99, 96, 93, 90]]\n",
    "```"
   ]
  },
  {
   "cell_type": "code",
   "execution_count": 113,
   "metadata": {},
   "outputs": [
    {
     "data": {
      "text/plain": [
       "[[27, 24, 21, 18, 15, 12, 9, 6, 3, 0],\n",
       " [28, 26, 24, 22, 20, 18, 16, 14, 12, 10],\n",
       " [38, 36, 34, 32, 30, 28, 26, 24, 22, 20],\n",
       " [57, 54, 51, 48, 45, 42, 39, 36, 33, 30],\n",
       " [58, 56, 54, 52, 50, 48, 46, 44, 42, 40],\n",
       " [68, 66, 64, 62, 60, 58, 56, 54, 52, 50],\n",
       " [87, 84, 81, 78, 75, 72, 69, 66, 63, 60],\n",
       " [88, 86, 84, 82, 80, 78, 76, 74, 72, 70],\n",
       " [98, 96, 94, 92, 90, 88, 86, 84, 82, 80],\n",
       " [117, 114, 111, 108, 105, 102, 99, 96, 93, 90]]"
      ]
     },
     "execution_count": 113,
     "metadata": {},
     "output_type": "execute_result"
    }
   ],
   "source": [
    "[list(range(i, i+30, 3))[::-1] if i % 30 == 0 else list(range(i, i+20, 2))[::-1] for i in range(0, 100, 10)]"
   ]
  },
  {
   "cell_type": "markdown",
   "metadata": {},
   "source": [
    "## Functions \n",
    "Functions are ubiquitous in Python. They take the following general form:\n",
    "```python\n",
    "def func(x):\n",
    "    result = x + 1\n",
    "    return result\n",
    "```\n",
    "The body of the function is indented, and the result is returned in the return statement. "
   ]
  },
  {
   "cell_type": "code",
   "execution_count": 116,
   "metadata": {},
   "outputs": [
    {
     "data": {
      "text/plain": [
       "['This', 'is', 'a', 'sentence', 'to', 'be', 'split']"
      ]
     },
     "execution_count": 116,
     "metadata": {},
     "output_type": "execute_result"
    }
   ],
   "source": [
    "def list_words(sentence):\n",
    "    \"\"\"\n",
    "    Splits a sentence into a list of its words.\n",
    "    \n",
    "    :param sentence: string representing a sentence\n",
    "    :returns: list of words in the sentence\n",
    "    \"\"\"\n",
    "    return sentence.split(\" \")\n",
    "\n",
    "list_words('This is a sentence to be split')"
   ]
  },
  {
   "cell_type": "code",
   "execution_count": 123,
   "metadata": {},
   "outputs": [
    {
     "name": "stdout",
     "output_type": "stream",
     "text": [
      "This is a fact.\n",
      "This is an exclamation!\n"
     ]
    }
   ],
   "source": [
    "def compose_sentence(words, sentence_end='.'):\n",
    "    \"\"\"\n",
    "    Creates a sentence out of a list of words ending with\n",
    "    punctation mark <sentence_end>.\n",
    "    \n",
    "    :param words: list of words\n",
    "    :param sentence_end: punctuation mark at end of sentence\n",
    "    :returns: sentence made from words, ended with <sentence_end>\n",
    "    \"\"\"\n",
    "    words[0] = words[0].title()\n",
    "    sentence = ' '.join(words)\n",
    "    return sentence + sentence_end\n",
    "\n",
    "print(compose_sentence(['this', 'is', 'a', 'fact']))\n",
    "print(compose_sentence(['this', 'is', 'an', 'exclamation'], sentence_end='!'))"
   ]
  },
  {
   "cell_type": "markdown",
   "metadata": {},
   "source": [
    "Create a function that accepts two strings of equal length as arguments, and creates a new string with alternating elements from both strings, the first in reversed order."
   ]
  },
  {
   "cell_type": "code",
   "execution_count": null,
   "metadata": {},
   "outputs": [],
   "source": []
  },
  {
   "cell_type": "markdown",
   "metadata": {},
   "source": [
    "## Dictionaries\n",
    "\n",
    "Dictionaries are data structures that map keys to values:\n",
    "\n",
    "```python\n",
    "{ key_1: value_1, key_2: value_2, ..., key_n: value_n}\n",
    "```\n",
    "\n",
    "**Note that dictionaries across Python versions are not ordered, and their order can actually change if, for instance, saved and read in from the file.**\n",
    "\n",
    "Note also that dictionary keys have to hashable."
   ]
  },
  {
   "cell_type": "code",
   "execution_count": 128,
   "metadata": {},
   "outputs": [
    {
     "name": "stdout",
     "output_type": "stream",
     "text": [
      "{'foo': 1, 'bar': 2}\n"
     ]
    }
   ],
   "source": [
    "dict1 = dict()\n",
    "dict1['foo'] = 1\n",
    "dict1['bar'] = 2\n",
    "\n",
    "print(dict1)"
   ]
  },
  {
   "cell_type": "code",
   "execution_count": 129,
   "metadata": {},
   "outputs": [
    {
     "name": "stdout",
     "output_type": "stream",
     "text": [
      "{'foo': 1, 'bar': 2}\n"
     ]
    }
   ],
   "source": [
    "dict1 = {'foo': 1, 'bar': 2}\n",
    "\n",
    "print(dict1)"
   ]
  },
  {
   "cell_type": "code",
   "execution_count": 135,
   "metadata": {},
   "outputs": [
    {
     "name": "stdout",
     "output_type": "stream",
     "text": [
      "2\n"
     ]
    }
   ],
   "source": [
    "# access one of the new key value pairs\n",
    "print(dict1['bar'])"
   ]
  },
  {
   "cell_type": "code",
   "execution_count": 131,
   "metadata": {},
   "outputs": [
    {
     "name": "stdout",
     "output_type": "stream",
     "text": [
      "{'foo': 3, 'bar': 2}\n"
     ]
    }
   ],
   "source": [
    "# modify the dictionary \n",
    "dict1['foo'] = 3\n",
    "\n",
    "print(dict1)"
   ]
  },
  {
   "cell_type": "code",
   "execution_count": 132,
   "metadata": {},
   "outputs": [
    {
     "name": "stdout",
     "output_type": "stream",
     "text": [
      "{'foo': 3, 'bar': 2, 'baz': 10}\n"
     ]
    }
   ],
   "source": [
    "# add a key to the dictionary\n",
    "dict1['baz'] = 10\n",
    "\n",
    "print(dict1)"
   ]
  },
  {
   "cell_type": "code",
   "execution_count": 136,
   "metadata": {},
   "outputs": [
    {
     "ename": "KeyError",
     "evalue": "'new'",
     "output_type": "error",
     "traceback": [
      "\u001b[0;31m---------------------------------------------------------------------------\u001b[0m",
      "\u001b[0;31mKeyError\u001b[0m                                  Traceback (most recent call last)",
      "\u001b[0;32m<ipython-input-136-dbe34b1a3ddb>\u001b[0m in \u001b[0;36m<module>\u001b[0;34m()\u001b[0m\n\u001b[1;32m      1\u001b[0m \u001b[0;31m# try to access a non-existent key\u001b[0m\u001b[0;34m\u001b[0m\u001b[0;34m\u001b[0m\u001b[0m\n\u001b[0;32m----> 2\u001b[0;31m \u001b[0mdict1\u001b[0m\u001b[0;34m[\u001b[0m\u001b[0;34m'new'\u001b[0m\u001b[0;34m]\u001b[0m\u001b[0;34m\u001b[0m\u001b[0m\n\u001b[0m",
      "\u001b[0;31mKeyError\u001b[0m: 'new'"
     ]
    }
   ],
   "source": [
    "# try to access a non-existent key\n",
    "dict1['new']"
   ]
  },
  {
   "cell_type": "markdown",
   "metadata": {},
   "source": [
    "## Sets\n",
    "\n",
    "Sets are collections of hashable elements, similar to lists, but where each element is unique. We can perform useful arithmetic with sets."
   ]
  },
  {
   "cell_type": "code",
   "execution_count": 139,
   "metadata": {},
   "outputs": [
    {
     "name": "stdout",
     "output_type": "stream",
     "text": [
      "{0, 1, 2, 3, 4, 5, 6, 7, 8, 9}\n"
     ]
    }
   ],
   "source": [
    "set1 = set(range(10))\n",
    "set2 = set(range(5, 10))\n",
    "\n",
    "print(set1)"
   ]
  },
  {
   "cell_type": "code",
   "execution_count": 145,
   "metadata": {},
   "outputs": [
    {
     "name": "stdout",
     "output_type": "stream",
     "text": [
      "{0, 1, 2, 3, 4}\n",
      "Same as:\n",
      "{0, 1, 2, 3, 4}\n"
     ]
    }
   ],
   "source": [
    "print(set1 - set2)\n",
    "\n",
    "difference = set1.difference(set2)\n",
    "print(f'Same as:\\n{difference}')"
   ]
  },
  {
   "cell_type": "code",
   "execution_count": 146,
   "metadata": {},
   "outputs": [
    {
     "name": "stdout",
     "output_type": "stream",
     "text": [
      "{5, 6, 7, 8, 9}\n",
      "Same as:\n",
      "{5, 6, 7, 8, 9}\n"
     ]
    }
   ],
   "source": [
    "print(set1 & set2)\n",
    "\n",
    "intersection = set1.intersection(set2)\n",
    "print(f'Same as:\\n{intersection}')"
   ]
  },
  {
   "cell_type": "code",
   "execution_count": 151,
   "metadata": {},
   "outputs": [
    {
     "name": "stdout",
     "output_type": "stream",
     "text": [
      "[1, 2, 2, 3, 3, 3, 4, 4, 4, 4]\n",
      "{1, 2, 3, 4}\n"
     ]
    }
   ],
   "source": [
    "# sets reduce an iterable of hashable objects to its unique elements\n",
    "list1 = [i for j in [[k]*k for k in range(1, 5)] for i in j]\n",
    "print(list1)\n",
    "\n",
    "set1 = set(list1)\n",
    "print(set1)"
   ]
  },
  {
   "cell_type": "markdown",
   "metadata": {},
   "source": [
    "## Classes\n",
    "\n",
    "Classes are the basis of objects in Python. Every one of the data structures we have looked at in this notebook is an example of a class.\n",
    "\n",
    "1. An ``init`` statement is necessary for the construction of the class to set its starting attributes.\n",
    "2. Every method definition must first pass ``self``, otherwise expect esoteric errors.\n",
    "3. Any attribute accessed outside of the ``init`` must be prepended with ``self.``"
   ]
  },
  {
   "cell_type": "code",
   "execution_count": 3,
   "metadata": {},
   "outputs": [],
   "source": [
    "from math import hypot\n",
    "\n",
    "class Vector:\n",
    "    \n",
    "    def __init__(self, x=0, y=0):\n",
    "        self.x = x\n",
    "        self.y = y\n",
    "        \n",
    "    def __repr__(self):\n",
    "        return 'Vector(%r, %r)' % (self.x, self.y)\n",
    "    \n",
    "    def __abs__(self):\n",
    "        return hypot(self.x, self.y)\n",
    "    \n",
    "    def __bool__(self):\n",
    "        return bool(abs(self))\n",
    "    \n",
    "    def __add__(self, other):\n",
    "        x = self.x + other.x\n",
    "        y = self.y + other.y\n",
    "        return Vector(x, y)\n",
    "    \n",
    "    def __mul__(self, scalar):\n",
    "        return Vector(self.x * scalar, self.y * scalar)"
   ]
  },
  {
   "cell_type": "markdown",
   "metadata": {},
   "source": [
    "The double underscore (dunder) methods in Python are reserved names with fixed meanings in Python. In the case of the above class, these methods are accessed by Python builtin functions and operators, allowing the use of these with our custom class."
   ]
  },
  {
   "cell_type": "code",
   "execution_count": 9,
   "metadata": {},
   "outputs": [
    {
     "name": "stdout",
     "output_type": "stream",
     "text": [
      "Vector(5, 9)\n",
      "abs(vector1)= 2.23606797749979\n",
      "vector1 + vector2= Vector(6, 11)\n"
     ]
    }
   ],
   "source": [
    "vector1 = Vector(1, 2)\n",
    "vector2 = Vector(5, 9)\n",
    "\n",
    "# this implicitly uses calls the dunder repr method\n",
    "print(vector2)\n",
    "\n",
    "# this implicitly calls the dunder abs method\n",
    "print(f'abs(vector1)= {abs(vector1)}')\n",
    "\n",
    "# this implicitly calls the __add__ dunder method\n",
    "print(f'vector1 + vector2= {vector1 + vector2}')"
   ]
  },
  {
   "cell_type": "markdown",
   "metadata": {},
   "source": [
    "## Easier to ask for forgiveness than permission (EAFP)\n",
    "Easier to ask for forgiveness than permission. This common Python coding style assumes the existence of valid keys or attributes and catches exceptions if the assumption proves false. This clean and fast style is characterized by the presence of many try and except statements. The technique contrasts with the look before you leap (LBYL) style common to many other languages such as C.\n",
    "\n",
    "Consider the following:"
   ]
  },
  {
   "cell_type": "code",
   "execution_count": 10,
   "metadata": {},
   "outputs": [
    {
     "name": "stdout",
     "output_type": "stream",
     "text": [
      "Total pets: 5\n"
     ]
    }
   ],
   "source": [
    "pet_counts = {'dog':3,\n",
    "              'cat':2,\n",
    "              'iguana':1}\n",
    "total_pets = 0\n",
    "for pet in ['dog', 'cat', 'parrot']:\n",
    "    try:\n",
    "        total_pets += pet_counts[pet]\n",
    "    except KeyError:\n",
    "        pass\n",
    "print(f'Total pets: {total_pets}')"
   ]
  },
  {
   "cell_type": "markdown",
   "metadata": {},
   "source": [
    "**NB:** Always anticipate specific types of errors, rather than generic errors."
   ]
  },
  {
   "cell_type": "markdown",
   "metadata": {},
   "source": [
    "## Args, Kwargs and Unpacking\n",
    "``args`` and ``kwargs`` in class or function definitions can be useful tools for handling variable numbers of **positional** and **keyword** arguments respectively."
   ]
  },
  {
   "cell_type": "code",
   "execution_count": 17,
   "metadata": {},
   "outputs": [],
   "source": [
    "def illustrative_func(*args, **kwargs):\n",
    "    print(f'args are saved as a tuple: {args}')\n",
    "    print(f'kwargs are saved as a dict: {kwargs}')"
   ]
  },
  {
   "cell_type": "code",
   "execution_count": 18,
   "metadata": {},
   "outputs": [
    {
     "name": "stdout",
     "output_type": "stream",
     "text": [
      "args are saved as a tuple: ('one', 1)\n",
      "kwargs are saved as a dict: {'two': 2}\n"
     ]
    }
   ],
   "source": [
    "illustrative_func('one', 1, two=2)"
   ]
  },
  {
   "cell_type": "markdown",
   "metadata": {},
   "source": [
    "More on unpacking:"
   ]
  },
  {
   "cell_type": "code",
   "execution_count": 19,
   "metadata": {},
   "outputs": [
    {
     "data": {
      "text/plain": [
       "[1, 2, 3, 4, 5, 6]"
      ]
     },
     "execution_count": 19,
     "metadata": {},
     "output_type": "execute_result"
    }
   ],
   "source": [
    "list1 = [1,2,3]\n",
    "# list1 can be unpacked into another list/tuple as below\n",
    "list2 = [*list1, 4, 5, 6]\n",
    "list2"
   ]
  },
  {
   "cell_type": "code",
   "execution_count": 20,
   "metadata": {},
   "outputs": [
    {
     "data": {
      "text/plain": [
       "{'a': 1, 'b': 2, 'c': 3, 'x': 1, 'y': 2, 'z': 3}"
      ]
     },
     "execution_count": 20,
     "metadata": {},
     "output_type": "execute_result"
    }
   ],
   "source": [
    "# We'll unpack two dictionaries to create a third \n",
    "d1 = {'a':1, 'b':2, 'c':3}\n",
    "d2 = {'x':1, 'y':2, 'z':3}\n",
    "d3 = {**d1, **d2}\n",
    "d3"
   ]
  },
  {
   "cell_type": "code",
   "execution_count": null,
   "metadata": {},
   "outputs": [],
   "source": []
  }
 ],
 "metadata": {
  "kernelspec": {
   "display_name": "Python 3",
   "language": "python",
   "name": "python3"
  },
  "language_info": {
   "codemirror_mode": {
    "name": "ipython",
    "version": 3
   },
   "file_extension": ".py",
   "mimetype": "text/x-python",
   "name": "python",
   "nbconvert_exporter": "python",
   "pygments_lexer": "ipython3",
   "version": "3.6.4"
  }
 },
 "nbformat": 4,
 "nbformat_minor": 2
}
